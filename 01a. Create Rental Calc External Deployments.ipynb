{
 "cells": [
  {
   "attachments": {},
   "cell_type": "markdown",
   "id": "50edf372-5c7e-46f4-9c30-e0225378fcf6",
   "metadata": {
    "collapsed": false,
    "datarobot": {
     "chart_settings": null,
     "custom_llm_metric_settings": null,
     "custom_metric_settings": null,
     "dataframe_view_options": null,
     "disable_run": false,
     "execution_time_millis": null,
     "hide_code": false,
     "hide_results": false,
     "language": "markdown"
    },
    "jupyter": {
     "outputs_hidden": false,
     "source_hidden": false
    },
    "scrolled": false
   },
   "source": [
    "# Purpose \n",
    "\n",
    "We will be registered and deploying the 19 rental calc models in what follows \n",
    "\n",
    "## Why? \n",
    "\n",
    "\n",
    "### Why Register? \n",
    "For the purposes of monitoring, we must have entries for a model in the registry. This part is required, because we specify the meta data of the model, specifically: \n",
    "* The type of model: regression, classification, etc\n",
    "* The target of the model: the name of the target column\n",
    "* If training data is available, add the training dataset to the registered model. This will permit us to track feature drift.\n",
    "\n",
    "### Why \"Deploy\"\n",
    "A deployment in DataRobot is a location that will provide use with details about the deployment (whereever it lives - in this case a DataRobot codespace.  Details include monitoring statistics, and other relevant details.  This location MUST exist so that there is a place to which we can report back monitoring statistics.  \n",
    "\n",
    "\n",
    "In what follows, I have mocked up how I might register and deloy all models related to rental calc model\n"
   ]
  },
  {
   "cell_type": "code",
   "execution_count": 1,
   "id": "f446075c-dfe7-4b2e-93e9-f1ec03fee1ad",
   "metadata": {
    "collapsed": false,
    "datarobot": {
     "chart_settings": null,
     "custom_llm_metric_settings": null,
     "custom_metric_settings": null,
     "dataframe_view_options": null,
     "disable_run": false,
     "execution_time_millis": 3,
     "hide_code": false,
     "hide_results": false,
     "language": "python"
    },
    "jupyter": {
     "outputs_hidden": false,
     "source_hidden": false
    },
    "scrolled": false
   },
   "outputs": [],
   "source": [
    "import numpy as np\n",
    "import datarobot as dr \n",
    "import time \n",
    "client = dr.Client() \n",
    "models = list(range(5, 100, 5))"
   ]
  },
  {
   "attachments": {},
   "cell_type": "markdown",
   "id": "4db590bc-ac36-4d60-b2e6-2ce4489ad6c7",
   "metadata": {
    "collapsed": false,
    "datarobot": {
     "chart_settings": null,
     "custom_llm_metric_settings": null,
     "custom_metric_settings": null,
     "dataframe_view_options": null,
     "disable_run": false,
     "execution_time_millis": null,
     "hide_code": false,
     "hide_results": false,
     "language": "markdown"
    },
    "jupyter": {
     "outputs_hidden": false,
     "source_hidden": false
    },
    "scrolled": false
   },
   "source": [
    "## Grab or Create Existing External Prediction Environment\n",
    "\n",
    "The prediction environment for an external model is just for tracking purposes.  It lets us know where the model lives.  "
   ]
  },
  {
   "cell_type": "code",
   "execution_count": 2,
   "id": "3aa332cd-ed64-4bc5-9846-de394394b1e8",
   "metadata": {
    "collapsed": false,
    "datarobot": {
     "chart_settings": null,
     "custom_llm_metric_settings": null,
     "custom_metric_settings": null,
     "dataframe_view_options": null,
     "disable_run": false,
     "execution_time_millis": 4613,
     "hide_code": false,
     "hide_results": false,
     "language": "python"
    },
    "jupyter": {
     "outputs_hidden": false,
     "source_hidden": false
    },
    "scrolled": false
   },
   "outputs": [],
   "source": [
    "## grab or create an existing prediction environment\n",
    "try:\n",
    "    prediction_environemnt = [p for p in dr.PredictionEnvironment.list() if p.name == \"Rental Calc Prediction Environemt\"].pop()\n",
    "except:\n",
    "    prediction_environment = dr.PredictionEnvironment.create(\n",
    "        \"Rental Calc Prediction Environemt\", \n",
    "        platform = \"other\", \n",
    "        description = \"External Prediction Environment for Rental Calc Models.  This is currently a scheduled notebook ina  datarobot codespace\" \n",
    "    ) "
   ]
  },
  {
   "attachments": {},
   "cell_type": "markdown",
   "id": "279c297e-46e8-4479-9464-82235e59d384",
   "metadata": {
    "collapsed": false,
    "datarobot": {
     "chart_settings": null,
     "custom_llm_metric_settings": null,
     "custom_metric_settings": null,
     "dataframe_view_options": null,
     "disable_run": false,
     "execution_time_millis": null,
     "hide_code": false,
     "hide_results": false,
     "language": "markdown"
    },
    "jupyter": {
     "outputs_hidden": false,
     "source_hidden": false
    },
    "scrolled": false
   },
   "source": [
    "## Register Each Model as an External Model"
   ]
  },
  {
   "cell_type": "code",
   "execution_count": null,
   "id": "2c38b8ec",
   "metadata": {
    "collapsed": false,
    "datarobot": {
     "disable_run": false,
     "execution_time_millis": 15418,
     "hide_code": false,
     "hide_results": false,
     "language": "python"
    },
    "jupyter": {
     "outputs_hidden": false,
     "source_hidden": false
    },
    "scrolled": "auto"
   },
   "outputs": [],
   "source": [
    "## if you have training data, register it to datarobot \n",
    "# dataset = dr.Dataset.create_from_in_memory_data(df)\n",
    "\n",
    "registerd_external_models = []\n",
    "for quantile in models:\n",
    "    quantile = str(quantile)\n",
    "    ext_reg_model = dr.RegisteredModelVersion.create_for_external(\n",
    "        name = f\"quantile {quantile}\", \n",
    "        target = {\"type\": \"Regression\", \"name\": \"charges\"},\n",
    "        # datasets = {\"trainingDataCatalogId\": dataset.id}, \n",
    "        registered_model_name = f\"external quantile {quantile}\",\n",
    "        registered_model_description=f\"quantile {quantile} model that has been packaged with umbrella model\"\n",
    "    )\n",
    "    time.sleep(5)  ## introducing sleep so we don't get rate limited by datarobot.\n",
    "    registerd_external_models.append(ext_reg_model)\n"
   ]
  },
  {
   "attachments": {},
   "cell_type": "markdown",
   "id": "f8c6ad9f-86fe-489e-ac92-653ed1efdc98",
   "metadata": {
    "collapsed": false,
    "datarobot": {
     "chart_settings": null,
     "custom_llm_metric_settings": null,
     "custom_metric_settings": null,
     "dataframe_view_options": null,
     "disable_run": false,
     "execution_time_millis": null,
     "hide_code": false,
     "hide_results": false,
     "language": "markdown"
    },
    "jupyter": {
     "outputs_hidden": false,
     "source_hidden": false
    },
    "scrolled": false
   },
   "source": [
    "## \"Deploy\" each Registered Model\n",
    "\n",
    "I use quotes only because this is creating an entry the DataRobot console, to which we will report back monitoring statistics, either by way of prediction jobs."
   ]
  },
  {
   "cell_type": "code",
   "execution_count": 4,
   "id": "28af0abc-6f76-4fa8-9a50-1f3655423e28",
   "metadata": {
    "collapsed": false,
    "datarobot": {
     "chart_settings": null,
     "custom_llm_metric_settings": null,
     "custom_metric_settings": null,
     "dataframe_view_options": null,
     "disable_run": false,
     "execution_time_millis": 6,
     "hide_code": false,
     "hide_results": false,
     "language": "python"
    },
    "jupyter": {
     "outputs_hidden": false,
     "source_hidden": false
    },
    "scrolled": false
   },
   "outputs": [
    {
     "data": {
      "text/plain": [
       "[<datarobot.models.model_registry.registered_model_version.RegisteredModelVersion at 0x7f2029aec2d0>,\n",
       " <datarobot.models.model_registry.registered_model_version.RegisteredModelVersion at 0x7f2029aee410>,\n",
       " <datarobot.models.model_registry.registered_model_version.RegisteredModelVersion at 0x7f2029aee250>,\n",
       " <datarobot.models.model_registry.registered_model_version.RegisteredModelVersion at 0x7f2029ad6010>,\n",
       " <datarobot.models.model_registry.registered_model_version.RegisteredModelVersion at 0x7f2029ad6d10>,\n",
       " <datarobot.models.model_registry.registered_model_version.RegisteredModelVersion at 0x7f2029ad7ed0>,\n",
       " <datarobot.models.model_registry.registered_model_version.RegisteredModelVersion at 0x7f2029ad5390>,\n",
       " <datarobot.models.model_registry.registered_model_version.RegisteredModelVersion at 0x7f2029ad7810>,\n",
       " <datarobot.models.model_registry.registered_model_version.RegisteredModelVersion at 0x7f2029ae52d0>,\n",
       " <datarobot.models.model_registry.registered_model_version.RegisteredModelVersion at 0x7f2029ae4790>,\n",
       " <datarobot.models.model_registry.registered_model_version.RegisteredModelVersion at 0x7f2029ae42d0>]"
      ]
     },
     "execution_count": 4,
     "metadata": {},
     "output_type": "execute_result"
    }
   ],
   "source": [
    "registerd_external_models"
   ]
  },
  {
   "cell_type": "code",
   "execution_count": 5,
   "id": "e30421db",
   "metadata": {
    "collapsed": false,
    "datarobot": {
     "disable_run": false,
     "execution_time_millis": 77414,
     "hide_code": false,
     "hide_results": false,
     "language": "python"
    },
    "jupyter": {
     "outputs_hidden": false,
     "source_hidden": false
    },
    "scrolled": "auto"
   },
   "outputs": [],
   "source": [
    "deployments = []\n",
    "for registerd_external_model in registerd_external_models:\n",
    "    deployment = dr.Deployment.create_from_registered_model_version(\n",
    "        model_package_id = registerd_external_model.id,\n",
    "        label=registerd_external_model.name,\n",
    "        description=f\"external model deployment for {registerd_external_model.name}\",\n",
    "        # default_prediction_server_id=PREDICTION_SERVER.id,\n",
    "        # importance=\"HIGH\",\n",
    "        prediction_environment_id=prediction_environemnt.id \n",
    "    )\n",
    "    ## current feature drift tracking is disabled.  You need to provide a training dataset at time of model registration for this to be availabe\n",
    "    deployment.update_drift_tracking_settings(target_drift_enabled=True, feature_drift_enabled=False)\n",
    "    # Enabling Accuracy\n",
    "    deployment.update_association_id_settings(column_names=[\"ASSOCIATION_ID\"], required_in_prediction_requests=False)\n",
    "    # Enabling Challenger\n",
    "    deployment.update_predictions_data_collection_settings(enabled=True)\n",
    "    deployments.append(deployment)\n",
    "\n",
    "\n"
   ]
  },
  {
   "attachments": {},
   "cell_type": "markdown",
   "id": "f1869830-77fa-4d10-b0c2-7d8ccc75ebfa",
   "metadata": {
    "collapsed": false,
    "datarobot": {
     "chart_settings": null,
     "custom_llm_metric_settings": null,
     "custom_metric_settings": null,
     "dataframe_view_options": null,
     "disable_run": false,
     "execution_time_millis": null,
     "hide_code": false,
     "hide_results": false,
     "language": "markdown"
    },
    "jupyter": {
     "outputs_hidden": false,
     "source_hidden": false
    },
    "scrolled": false
   },
   "source": [
    "Next up, we write the data to disk so that we can call it the scoring code so we know where to report stuff back to "
   ]
  },
  {
   "cell_type": "code",
   "execution_count": 6,
   "id": "6e685a00",
   "metadata": {
    "collapsed": false,
    "datarobot": {
     "disable_run": false,
     "execution_time_millis": 10,
     "hide_code": false,
     "hide_results": false,
     "language": "python"
    },
    "jupyter": {
     "outputs_hidden": false,
     "source_hidden": false
    },
    "scrolled": "auto"
   },
   "outputs": [],
   "source": [
    "import yaml \n",
    "routing_conf = []\n",
    "for deployment in deployments:\n",
    "    data = dict(\n",
    "        deployment_id = deployment.id ,\n",
    "        model_id = deployment.model[\"id\"],\n",
    "        target_column = deployment.label, \n",
    "        target_type = \"Regression\", \n",
    "        url = f\"https://app.datarobot.com/console-nextgen/deployments/{deployment.id}/overview\"\n",
    "    )\n",
    "    routing_conf.append(data)\n",
    "with open(\"deployment_details.yaml\", \"w\") as f:\n",
    "    f.write(yaml.dump(routing_conf))"
   ]
  },
  {
   "cell_type": "markdown",
   "id": "313364f9",
   "metadata": {
    "collapsed": false,
    "datarobot": {
     "disable_run": false,
     "hide_code": false,
     "hide_results": false,
     "language": "markdown"
    },
    "jupyter": {
     "outputs_hidden": false,
     "source_hidden": false
    },
    "scrolled": "auto"
   },
   "source": [
    "## tag deployments\n",
    "\n",
    "Tags for deployments just provide us with a  way to filter on the Console.  "
   ]
  },
  {
   "cell_type": "code",
   "execution_count": 7,
   "id": "572a3812",
   "metadata": {
    "collapsed": false,
    "datarobot": {
     "disable_run": false,
     "execution_time_millis": 4,
     "hide_code": false,
     "hide_results": false,
     "language": "python"
    },
    "jupyter": {
     "outputs_hidden": false,
     "source_hidden": false
    },
    "scrolled": "auto"
   },
   "outputs": [],
   "source": [
    "MODEL_TAG = \"Rental Calc Models\""
   ]
  },
  {
   "cell_type": "code",
   "execution_count": 8,
   "id": "515c1769",
   "metadata": {
    "collapsed": false,
    "datarobot": {
     "disable_run": false,
     "execution_time_millis": 11,
     "hide_code": false,
     "hide_results": false,
     "language": "python"
    },
    "jupyter": {
     "outputs_hidden": false,
     "source_hidden": false
    },
    "scrolled": "auto"
   },
   "outputs": [],
   "source": [
    "with open(\"deployment_details.yaml\", \"r\") as f:\n",
    "    model_config = yaml.load(f, Loader = yaml.SafeLoader)"
   ]
  },
  {
   "cell_type": "code",
   "execution_count": 9,
   "id": "394d4308",
   "metadata": {
    "datarobot": {
     "execution_time_millis": 2710
    }
   },
   "outputs": [],
   "source": [
    "for model in model_config:\n",
    "    dep_id = model[\"deployment_id\"]\n",
    "    try:\n",
    "        client.post(f\"deployments/{dep_id}/tags\", data = {\"name\": \"Umbrella Model\", \"value\": MODEL_TAG})\n",
    "    except Exception as e:\n",
    "        print(e)"
   ]
  },
  {
   "cell_type": "code",
   "execution_count": 0,
   "id": "8d87ac53-86c3-4c2e-927f-fdbb32ac4591",
   "metadata": {
    "collapsed": false,
    "datarobot": {
     "chart_settings": null,
     "custom_llm_metric_settings": null,
     "custom_metric_settings": null,
     "dataframe_view_options": null,
     "disable_run": false,
     "execution_time_millis": null,
     "hide_code": false,
     "hide_results": false,
     "language": "python"
    },
    "jupyter": {
     "outputs_hidden": false,
     "source_hidden": false
    },
    "scrolled": false
   },
   "outputs": [],
   "source": []
  }
 ],
 "metadata": {
  "kernelspec": {
   "display_name": "Python 3 (ipykernel)",
   "name": "python3"
  },
  "language_info": {
   "name": "python"
  }
 },
 "nbformat": 4,
 "nbformat_minor": 5
}
