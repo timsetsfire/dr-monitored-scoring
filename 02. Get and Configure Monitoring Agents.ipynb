{
 "cells": [
  {
   "attachments": {},
   "cell_type": "markdown",
   "id": "beb6a77a-4cff-4221-bb8c-e580fe90c279",
   "metadata": {
    "collapsed": false,
    "datarobot": {
     "chart_settings": null,
     "custom_llm_metric_settings": null,
     "custom_metric_settings": null,
     "dataframe_view_options": null,
     "disable_run": false,
     "execution_time_millis": null,
     "hide_code": false,
     "hide_results": false,
     "language": "markdown"
    },
    "jupyter": {
     "outputs_hidden": false,
     "source_hidden": false
    },
    "scrolled": false
   },
   "source": [
    "## Grab the Monitoring agents from DataRobot and Configure\n",
    "\n",
    "THis is a one and done exercise.\n",
    "\n",
    "In here we will download the monitoring agent and unzip it.  "
   ]
  },
  {
   "cell_type": "code",
   "execution_count": 1,
   "id": "fd3555ba-6d15-47f2-b34d-9536b57bc249",
   "metadata": {
    "collapsed": true,
    "datarobot": {
     "disable_run": false,
     "execution_time_millis": 26737,
     "hide_code": false,
     "hide_results": false,
     "language": "python"
    },
    "jupyter": {
     "outputs_hidden": false,
     "source_hidden": false
    },
    "name": "First cell",
    "scrolled": "auto"
   },
   "outputs": [],
   "source": [
    "import datarobot as dr\n",
    "import glob \n",
    "import yaml\n",
    "client = dr.Client()\n",
    "mlops_agents_tb = client.get(\"mlopsInstaller/\")\n",
    "with open(\"mlops-agent.tar.gz\", \"wb\") as f:\n",
    "    f.write(mlops_agents_tb.content)\n",
    "!tar -xf mlops-agent.tar.gz -C .\n",
    "agents_dir = glob.glob(\"./datarobot_mlops*\").pop(0)"
   ]
  },
  {
   "cell_type": "markdown",
   "id": "ae2d5a7b",
   "metadata": {},
   "source": [
    "## Configure the agent\n",
    "\n",
    "You can either update mlops.agents.conf.yaml, or you can use environment variables.  In the notebook `03. Score and Montiroing (Scheduled).ipynb` you'll see the use of environment variables, which get set before starting the monitoring agent"
   ]
  },
  {
   "cell_type": "code",
   "execution_count": 0,
   "id": "b5b7852c-6fdf-4f5d-91fc-34c7b80e5137",
   "metadata": {
    "collapsed": false,
    "datarobot": {
     "chart_settings": null,
     "custom_llm_metric_settings": null,
     "custom_metric_settings": null,
     "dataframe_view_options": null,
     "disable_run": false,
     "execution_time_millis": null,
     "hide_code": false,
     "hide_results": false,
     "language": "python"
    },
    "jupyter": {
     "outputs_hidden": false,
     "source_hidden": false
    },
    "scrolled": false
   },
   "outputs": [],
   "source": [
    "# with open(r'{}/conf/mlops.agent.conf.yaml'.format(agents_dir)) as file:\n",
    "#     documents = yaml.load(file, Loader=yaml.FullLoader)\n",
    "# ## configure the loaction of the mlops instance with which we'll communcate\n",
    "# documents['mlopsUrl'] = os.environ[\"DATAROBOT_ENDPOINT\"].replace(\"/api/v2\", \"\")\n",
    "# # Set your API token\n",
    "# documents['apiToken'] = os.environ[\"DATAROBOT_API_TOKEN\"]\n",
    "# ## write the configuration back to disk\n",
    "# with open(r'{}/conf/mlops.agent.conf.yaml'.format(agents_dir), \"w\") as f:\n",
    "#     yaml.dump(documents, f)"
   ]
  }
 ],
 "metadata": {
  "kernelspec": {
   "display_name": "Python 3 (ipykernel)",
   "name": "python3"
  },
  "language_info": {
   "name": "python"
  }
 },
 "nbformat": 4,
 "nbformat_minor": 5
}
