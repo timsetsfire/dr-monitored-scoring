{
 "cells": [
  {
   "attachments": {},
   "cell_type": "markdown",
   "id": "3ce00723-b276-4989-a5ef-9a4fb6bdfd5f",
   "metadata": {
    "collapsed": false,
    "datarobot": {
     "chart_settings": null,
     "custom_llm_metric_settings": null,
     "custom_metric_settings": null,
     "dataframe_view_options": null,
     "disable_run": false,
     "execution_time_millis": null,
     "hide_code": false,
     "hide_results": false,
     "language": "markdown"
    },
    "jupyter": {
     "outputs_hidden": false,
     "source_hidden": false
    },
    "scrolled": false
   },
   "source": [
    "## Monitoring Scoring Piplein \n",
    "\n",
    "In what follows, we will instrument monitroing agents to montiroing the 19 models"
   ]
  },
  {
   "attachments": {},
   "cell_type": "markdown",
   "id": "e747d564-187a-4676-ae62-652e0d6f7b89",
   "metadata": {
    "collapsed": false,
    "datarobot": {
     "chart_settings": null,
     "custom_llm_metric_settings": null,
     "custom_metric_settings": null,
     "dataframe_view_options": null,
     "disable_run": false,
     "execution_time_millis": null,
     "hide_code": false,
     "hide_results": false,
     "language": "markdown"
    },
    "jupyter": {
     "outputs_hidden": false,
     "source_hidden": false
    },
    "scrolled": false
   },
   "source": [
    "## Generate some test data\n",
    "\n",
    "This is an example of scoring data and monitoring with datarobot"
   ]
  },
  {
   "cell_type": "code",
   "execution_count": 1,
   "id": "190dd3b2-45fe-4547-9420-4c6f00116255",
   "metadata": {
    "collapsed": false,
    "datarobot": {
     "chart_settings": null,
     "custom_llm_metric_settings": null,
     "custom_metric_settings": null,
     "dataframe_view_options": null,
     "disable_run": false,
     "execution_time_millis": 560,
     "hide_code": false,
     "hide_results": false,
     "language": "python"
    },
    "jupyter": {
     "outputs_hidden": false,
     "source_hidden": false
    },
    "scrolled": false
   },
   "outputs": [],
   "source": [
    "import json\n",
    "import pandas as pd \n",
    "import yaml\n",
    "import datarobot as dr\n",
    "from datarobot_mlops.mlops import MLOps\n",
    "import time\n",
    "import yaml \n",
    "import numpy as np \n",
    "\n",
    "import numpy as np \n",
    "def generate_data(n = 100):\n",
    "    arr = [\"low\", \"medium\", \"high\"]\n",
    "    predictions = np.random.uniform(1000,10000, [n, 19])\n",
    "    exposureType = np.random.choice([\"exposure type a\", \"exposure type b\", \"exposure type c\"], size=n, p = [1/3 ,1/3, 1/3], replace=True)\n",
    "    claimNumber = np.random.randint(11111, 99999, size = n)\n",
    "    payload = pd.DataFrame( dict( claimNumber = claimNumber, exposureType = exposureType))\n",
    "    predictions = pd.DataFrame(predictions, columns = [f\"quantile {q}\" for q in list(range(5,100,5))])\n",
    "    payload[\"claimantInfo\"] = json.dumps( dict( field1 = \"field1\", field2 = \"field2\"))\n",
    "    return payload.join(predictions)"
   ]
  },
  {
   "cell_type": "code",
   "execution_count": 2,
   "id": "5e2fd8a2-7995-490f-8098-60a8edf52502",
   "metadata": {
    "collapsed": false,
    "datarobot": {
     "chart_settings": null,
     "custom_llm_metric_settings": null,
     "custom_metric_settings": null,
     "dataframe_view_options": null,
     "disable_run": false,
     "execution_time_millis": 32,
     "hide_code": false,
     "hide_results": false,
     "language": "python"
    },
    "jupyter": {
     "outputs_hidden": false,
     "source_hidden": false
    },
    "scrolled": false
   },
   "outputs": [
    {
     "data": {
      "application/vnd.dataframe+json": {
       "columns": [
        {
         "name": "index",
         "type": "integer"
        },
        {
         "name": "claimNumber",
         "type": "integer"
        },
        {
         "name": "exposureType",
         "type": "string"
        },
        {
         "name": "claimantInfo",
         "type": "string"
        },
        {
         "name": "quantile 5",
         "type": "number"
        },
        {
         "name": "quantile 10",
         "type": "number"
        },
        {
         "name": "quantile 15",
         "type": "number"
        },
        {
         "name": "quantile 20",
         "type": "number"
        },
        {
         "name": "quantile 25",
         "type": "number"
        },
        {
         "name": "quantile 30",
         "type": "number"
        },
        {
         "name": "quantile 35",
         "type": "number"
        },
        {
         "name": "quantile 40",
         "type": "number"
        },
        {
         "name": "quantile 45",
         "type": "number"
        },
        {
         "name": "quantile 50",
         "type": "number"
        },
        {
         "name": "quantile 55",
         "type": "number"
        },
        {
         "name": "quantile 60",
         "type": "number"
        },
        {
         "name": "quantile 65",
         "type": "number"
        },
        {
         "name": "quantile 70",
         "type": "number"
        },
        {
         "name": "quantile 75",
         "type": "number"
        },
        {
         "name": "quantile 80",
         "type": "number"
        },
        {
         "name": "quantile 85",
         "type": "number"
        },
        {
         "name": "quantile 90",
         "type": "number"
        },
        {
         "name": "quantile 95",
         "type": "number"
        }
       ],
       "count": 5,
       "data": [
        {
         "claimNumber": 93427,
         "claimantInfo": "{\"field1\": \"field1\", \"field2\": \"field2\"}",
         "exposureType": "exposure type a",
         "index": 0,
         "quantile 10": 1734.9143256777,
         "quantile 15": 4435.6910878102,
         "quantile 20": 1954.5574539016,
         "quantile 25": 5516.3743525443,
         "quantile 30": 2687.5348835293,
         "quantile 35": 9346.6904245411,
         "quantile 40": 8743.3784783217,
         "quantile 45": 8187.747573971,
         "quantile 5": 2356.676363317,
         "quantile 50": 6584.8459677123,
         "quantile 55": 7403.6419137877,
         "quantile 60": 3993.3990064543,
         "quantile 65": 8937.2891157724,
         "quantile 70": 3263.9541967401,
         "quantile 75": 7311.5982932284,
         "quantile 80": 2000.2985379681,
         "quantile 85": 2116.1209162289,
         "quantile 90": 1106.0084027156,
         "quantile 95": 3833.4820299249
        },
        {
         "claimNumber": 79990,
         "claimantInfo": "{\"field1\": \"field1\", \"field2\": \"field2\"}",
         "exposureType": "exposure type b",
         "index": 1,
         "quantile 10": 3083.1718044264,
         "quantile 15": 6225.0512897366,
         "quantile 20": 9168.0964299764,
         "quantile 25": 9908.916361552,
         "quantile 30": 9580.7812760293,
         "quantile 35": 7377.1534149431,
         "quantile 40": 2238.0792027346,
         "quantile 45": 3884.9934499402,
         "quantile 5": 3901.8975813422,
         "quantile 50": 8790.9929574724,
         "quantile 55": 2749.7890490942,
         "quantile 60": 4868.2419807201,
         "quantile 65": 5966.2659048722,
         "quantile 70": 1735.9912137254,
         "quantile 75": 8361.6255456278,
         "quantile 80": 2870.2110446712,
         "quantile 85": 6751.1276673725,
         "quantile 90": 8137.7191740877,
         "quantile 95": 2507.7820114254
        },
        {
         "claimNumber": 54200,
         "claimantInfo": "{\"field1\": \"field1\", \"field2\": \"field2\"}",
         "exposureType": "exposure type c",
         "index": 2,
         "quantile 10": 3677.8842923034,
         "quantile 15": 9274.0732471263,
         "quantile 20": 3504.3514235325,
         "quantile 25": 4917.3003988347,
         "quantile 30": 7096.029966935,
         "quantile 35": 9050.8303215218,
         "quantile 40": 1755.7531713971,
         "quantile 45": 4570.518608565,
         "quantile 5": 5035.2694429191,
         "quantile 50": 4021.0404853865,
         "quantile 55": 9816.8384181803,
         "quantile 60": 2086.9597312727,
         "quantile 65": 8613.7699475015,
         "quantile 70": 4450.509117311,
         "quantile 75": 6151.0547533254,
         "quantile 80": 5604.918317639,
         "quantile 85": 1381.6317974168,
         "quantile 90": 8285.2707863723,
         "quantile 95": 3863.6605157768
        },
        {
         "claimNumber": 97848,
         "claimantInfo": "{\"field1\": \"field1\", \"field2\": \"field2\"}",
         "exposureType": "exposure type b",
         "index": 3,
         "quantile 10": 2743.7271518048,
         "quantile 15": 8184.5237916035,
         "quantile 20": 4823.4544529962,
         "quantile 25": 8572.139627704,
         "quantile 30": 2777.4743197148,
         "quantile 35": 6069.732989807,
         "quantile 40": 3918.2463828562,
         "quantile 45": 1493.2422972031,
         "quantile 5": 6817.9313397361,
         "quantile 50": 3607.7778701547,
         "quantile 55": 2835.3000457493,
         "quantile 60": 2751.3934853859,
         "quantile 65": 8189.9791015693,
         "quantile 70": 7879.7328557968,
         "quantile 75": 9625.2010123055,
         "quantile 80": 4419.8809392554,
         "quantile 85": 3457.1470631638,
         "quantile 90": 5112.9964332491,
         "quantile 95": 3866.2192944421
        },
        {
         "claimNumber": 95937,
         "claimantInfo": "{\"field1\": \"field1\", \"field2\": \"field2\"}",
         "exposureType": "exposure type a",
         "index": 4,
         "quantile 10": 4928.045652992,
         "quantile 15": 3745.2813453879,
         "quantile 20": 4625.1695513108,
         "quantile 25": 3209.7901863478,
         "quantile 30": 2884.8083192072,
         "quantile 35": 3676.7786409416,
         "quantile 40": 9446.7860646959,
         "quantile 45": 3344.0674871692,
         "quantile 5": 9486.7679108694,
         "quantile 50": 4979.9224116967,
         "quantile 55": 5108.5777208344,
         "quantile 60": 2862.4534248745,
         "quantile 65": 8581.7929398282,
         "quantile 70": 4305.8561482035,
         "quantile 75": 7993.4505786468,
         "quantile 80": 8911.9291350803,
         "quantile 85": 1452.626051489,
         "quantile 90": 6712.0994836917,
         "quantile 95": 6700.9245442871
        }
       ],
       "error": [],
       "indexKey": "index",
       "limit": 10,
       "offset": 0,
       "referenceId": 140466265983888,
       "sortedBy": "",
       "totalCount": 5
      },
      "text/html": [
       "<div>\n",
       "<style scoped>\n",
       "    .dataframe tbody tr th:only-of-type {\n",
       "        vertical-align: middle;\n",
       "    }\n",
       "\n",
       "    .dataframe tbody tr th {\n",
       "        vertical-align: top;\n",
       "    }\n",
       "\n",
       "    .dataframe thead th {\n",
       "        text-align: right;\n",
       "    }\n",
       "</style>\n",
       "<table border=\"1\" class=\"dataframe\">\n",
       "  <thead>\n",
       "    <tr style=\"text-align: right;\">\n",
       "      <th></th>\n",
       "      <th>claimNumber</th>\n",
       "      <th>exposureType</th>\n",
       "      <th>claimantInfo</th>\n",
       "      <th>quantile 5</th>\n",
       "      <th>quantile 10</th>\n",
       "      <th>quantile 15</th>\n",
       "      <th>quantile 20</th>\n",
       "      <th>quantile 25</th>\n",
       "      <th>quantile 30</th>\n",
       "      <th>quantile 35</th>\n",
       "      <th>...</th>\n",
       "      <th>quantile 50</th>\n",
       "      <th>quantile 55</th>\n",
       "      <th>quantile 60</th>\n",
       "      <th>quantile 65</th>\n",
       "      <th>quantile 70</th>\n",
       "      <th>quantile 75</th>\n",
       "      <th>quantile 80</th>\n",
       "      <th>quantile 85</th>\n",
       "      <th>quantile 90</th>\n",
       "      <th>quantile 95</th>\n",
       "    </tr>\n",
       "  </thead>\n",
       "  <tbody>\n",
       "    <tr>\n",
       "      <th>0</th>\n",
       "      <td>93427</td>\n",
       "      <td>exposure type a</td>\n",
       "      <td>{\"field1\": \"field1\", \"field2\": \"field2\"}</td>\n",
       "      <td>2356.676363</td>\n",
       "      <td>1734.914326</td>\n",
       "      <td>4435.691088</td>\n",
       "      <td>1954.557454</td>\n",
       "      <td>5516.374353</td>\n",
       "      <td>2687.534884</td>\n",
       "      <td>9346.690425</td>\n",
       "      <td>...</td>\n",
       "      <td>6584.845968</td>\n",
       "      <td>7403.641914</td>\n",
       "      <td>3993.399006</td>\n",
       "      <td>8937.289116</td>\n",
       "      <td>3263.954197</td>\n",
       "      <td>7311.598293</td>\n",
       "      <td>2000.298538</td>\n",
       "      <td>2116.120916</td>\n",
       "      <td>1106.008403</td>\n",
       "      <td>3833.482030</td>\n",
       "    </tr>\n",
       "    <tr>\n",
       "      <th>1</th>\n",
       "      <td>79990</td>\n",
       "      <td>exposure type b</td>\n",
       "      <td>{\"field1\": \"field1\", \"field2\": \"field2\"}</td>\n",
       "      <td>3901.897581</td>\n",
       "      <td>3083.171804</td>\n",
       "      <td>6225.051290</td>\n",
       "      <td>9168.096430</td>\n",
       "      <td>9908.916362</td>\n",
       "      <td>9580.781276</td>\n",
       "      <td>7377.153415</td>\n",
       "      <td>...</td>\n",
       "      <td>8790.992957</td>\n",
       "      <td>2749.789049</td>\n",
       "      <td>4868.241981</td>\n",
       "      <td>5966.265905</td>\n",
       "      <td>1735.991214</td>\n",
       "      <td>8361.625546</td>\n",
       "      <td>2870.211045</td>\n",
       "      <td>6751.127667</td>\n",
       "      <td>8137.719174</td>\n",
       "      <td>2507.782011</td>\n",
       "    </tr>\n",
       "    <tr>\n",
       "      <th>2</th>\n",
       "      <td>54200</td>\n",
       "      <td>exposure type c</td>\n",
       "      <td>{\"field1\": \"field1\", \"field2\": \"field2\"}</td>\n",
       "      <td>5035.269443</td>\n",
       "      <td>3677.884292</td>\n",
       "      <td>9274.073247</td>\n",
       "      <td>3504.351424</td>\n",
       "      <td>4917.300399</td>\n",
       "      <td>7096.029967</td>\n",
       "      <td>9050.830322</td>\n",
       "      <td>...</td>\n",
       "      <td>4021.040485</td>\n",
       "      <td>9816.838418</td>\n",
       "      <td>2086.959731</td>\n",
       "      <td>8613.769948</td>\n",
       "      <td>4450.509117</td>\n",
       "      <td>6151.054753</td>\n",
       "      <td>5604.918318</td>\n",
       "      <td>1381.631797</td>\n",
       "      <td>8285.270786</td>\n",
       "      <td>3863.660516</td>\n",
       "    </tr>\n",
       "    <tr>\n",
       "      <th>3</th>\n",
       "      <td>97848</td>\n",
       "      <td>exposure type b</td>\n",
       "      <td>{\"field1\": \"field1\", \"field2\": \"field2\"}</td>\n",
       "      <td>6817.931340</td>\n",
       "      <td>2743.727152</td>\n",
       "      <td>8184.523792</td>\n",
       "      <td>4823.454453</td>\n",
       "      <td>8572.139628</td>\n",
       "      <td>2777.474320</td>\n",
       "      <td>6069.732990</td>\n",
       "      <td>...</td>\n",
       "      <td>3607.777870</td>\n",
       "      <td>2835.300046</td>\n",
       "      <td>2751.393485</td>\n",
       "      <td>8189.979102</td>\n",
       "      <td>7879.732856</td>\n",
       "      <td>9625.201012</td>\n",
       "      <td>4419.880939</td>\n",
       "      <td>3457.147063</td>\n",
       "      <td>5112.996433</td>\n",
       "      <td>3866.219294</td>\n",
       "    </tr>\n",
       "    <tr>\n",
       "      <th>4</th>\n",
       "      <td>95937</td>\n",
       "      <td>exposure type a</td>\n",
       "      <td>{\"field1\": \"field1\", \"field2\": \"field2\"}</td>\n",
       "      <td>9486.767911</td>\n",
       "      <td>4928.045653</td>\n",
       "      <td>3745.281345</td>\n",
       "      <td>4625.169551</td>\n",
       "      <td>3209.790186</td>\n",
       "      <td>2884.808319</td>\n",
       "      <td>3676.778641</td>\n",
       "      <td>...</td>\n",
       "      <td>4979.922412</td>\n",
       "      <td>5108.577721</td>\n",
       "      <td>2862.453425</td>\n",
       "      <td>8581.792940</td>\n",
       "      <td>4305.856148</td>\n",
       "      <td>7993.450579</td>\n",
       "      <td>8911.929135</td>\n",
       "      <td>1452.626051</td>\n",
       "      <td>6712.099484</td>\n",
       "      <td>6700.924544</td>\n",
       "    </tr>\n",
       "  </tbody>\n",
       "</table>\n",
       "<p>5 rows × 22 columns</p>\n",
       "</div>"
      ],
      "text/plain": [
       "   claimNumber     exposureType                              claimantInfo  \\\n",
       "0        93427  exposure type a  {\"field1\": \"field1\", \"field2\": \"field2\"}   \n",
       "1        79990  exposure type b  {\"field1\": \"field1\", \"field2\": \"field2\"}   \n",
       "2        54200  exposure type c  {\"field1\": \"field1\", \"field2\": \"field2\"}   \n",
       "3        97848  exposure type b  {\"field1\": \"field1\", \"field2\": \"field2\"}   \n",
       "4        95937  exposure type a  {\"field1\": \"field1\", \"field2\": \"field2\"}   \n",
       "\n",
       "    quantile 5  quantile 10  quantile 15  quantile 20  quantile 25  \\\n",
       "0  2356.676363  1734.914326  4435.691088  1954.557454  5516.374353   \n",
       "1  3901.897581  3083.171804  6225.051290  9168.096430  9908.916362   \n",
       "2  5035.269443  3677.884292  9274.073247  3504.351424  4917.300399   \n",
       "3  6817.931340  2743.727152  8184.523792  4823.454453  8572.139628   \n",
       "4  9486.767911  4928.045653  3745.281345  4625.169551  3209.790186   \n",
       "\n",
       "   quantile 30  quantile 35  ...  quantile 50  quantile 55  quantile 60  \\\n",
       "0  2687.534884  9346.690425  ...  6584.845968  7403.641914  3993.399006   \n",
       "1  9580.781276  7377.153415  ...  8790.992957  2749.789049  4868.241981   \n",
       "2  7096.029967  9050.830322  ...  4021.040485  9816.838418  2086.959731   \n",
       "3  2777.474320  6069.732990  ...  3607.777870  2835.300046  2751.393485   \n",
       "4  2884.808319  3676.778641  ...  4979.922412  5108.577721  2862.453425   \n",
       "\n",
       "   quantile 65  quantile 70  quantile 75  quantile 80  quantile 85  \\\n",
       "0  8937.289116  3263.954197  7311.598293  2000.298538  2116.120916   \n",
       "1  5966.265905  1735.991214  8361.625546  2870.211045  6751.127667   \n",
       "2  8613.769948  4450.509117  6151.054753  5604.918318  1381.631797   \n",
       "3  8189.979102  7879.732856  9625.201012  4419.880939  3457.147063   \n",
       "4  8581.792940  4305.856148  7993.450579  8911.929135  1452.626051   \n",
       "\n",
       "   quantile 90  quantile 95  \n",
       "0  1106.008403  3833.482030  \n",
       "1  8137.719174  2507.782011  \n",
       "2  8285.270786  3863.660516  \n",
       "3  5112.996433  3866.219294  \n",
       "4  6712.099484  6700.924544  \n",
       "\n",
       "[5 rows x 22 columns]"
      ]
     },
     "execution_count": 2,
     "metadata": {},
     "output_type": "execute_result"
    }
   ],
   "source": [
    "generate_data(5)"
   ]
  },
  {
   "attachments": {},
   "cell_type": "markdown",
   "id": "dab72ec5-fb06-4bc1-85b1-024d756cbc4c",
   "metadata": {
    "collapsed": false,
    "datarobot": {
     "chart_settings": null,
     "custom_llm_metric_settings": null,
     "custom_metric_settings": null,
     "dataframe_view_options": null,
     "disable_run": false,
     "execution_time_millis": null,
     "hide_code": false,
     "hide_results": false,
     "language": "markdown"
    },
    "jupyter": {
     "outputs_hidden": false,
     "source_hidden": false
    },
    "scrolled": false
   },
   "source": [
    "## Using DataRobot Monitoring Agents + Filesystem as Spooler\n",
    "\n",
    "The way remote monitoring works.  \n",
    "\n",
    "* The python SDK is used to spool data to a spooler.  \n",
    "\n",
    "* A monitoring agent is running somehwere - checking the spooler for new data and relaying that data to DataRobot.  \n",
    "\n",
    "In this example, we use the filestystem as spooler.  \n",
    "\n",
    "Please see details for other configiruations in the [DataRobot documentation](https://docs.datarobot.com/en/docs/mlops/deployment/mlops-agent/monitoring-agent/spooler.html)\n",
    "\n"
   ]
  },
  {
   "cell_type": "code",
   "execution_count": 46,
   "id": "8fe765c4-586f-4f9e-aac9-304a42c2d3f9",
   "metadata": {
    "collapsed": false,
    "datarobot": {
     "chart_settings": null,
     "custom_llm_metric_settings": null,
     "custom_metric_settings": null,
     "dataframe_view_options": null,
     "disable_run": false,
     "execution_time_millis": 1034,
     "hide_code": false,
     "hide_results": false,
     "language": "python"
    },
    "jupyter": {
     "outputs_hidden": false,
     "source_hidden": false
    },
    "scrolled": false
   },
   "outputs": [
    {
     "name": "stdout",
     "output_type": "stream",
     "text": [
      "10000\n"
     ]
    }
   ],
   "source": [
    "dep = dr.Deployment.get(deployment_conf[0][\"deployment_id\"])\n",
    "service_stats = dep.get_service_stats()\n",
    "prediction_count = service_stats.metrics.get(\"totalPredictions\")\n",
    "print(prediction_count)"
   ]
  },
  {
   "cell_type": "code",
   "execution_count": null,
   "id": "dd97a6f1-2585-4e85-aced-4fbbfd15fe12",
   "metadata": {
    "collapsed": false,
    "datarobot": {
     "chart_settings": null,
     "custom_llm_metric_settings": null,
     "custom_metric_settings": null,
     "dataframe_view_options": null,
     "disable_run": false,
     "execution_time_millis": 5053,
     "hide_code": false,
     "hide_results": false,
     "language": "python"
    },
    "jupyter": {
     "outputs_hidden": false,
     "source_hidden": false
    },
    "scrolled": false
   },
   "outputs": [],
   "source": [
    "from pathlib import Path\n",
    "from datarobot_mlops.mlops import MLOps\n",
    "import os \n",
    "import glob \n",
    "import subprocess   \n",
    "import time \n",
    "import json\n",
    "\n",
    "## thia is the spooler director that we are creating on the fly\n",
    "spooler_dir = Path(\"/tmp/ta\")\n",
    "spooler_dir.mkdir(exist_ok = True)\n",
    "## the environment variables are a must for the client created on line 20 of this cell\n",
    "## and for the agent that gets started in a few cells\n",
    "os.environ[\"MLOPS_SERVICE_URL\"] = \"https://app.datarobot.com\"\n",
    "os.environ['MLOPS_API_TOKEN'] = os.environ[\"DATAROBOT_API_TOKEN\"]\n",
    "os.environ['MLOPS_AGENT_VERIFY_SSL'] = \"true\"\n",
    "## the monitoring agent is a java service, and in order to run, we need JAVA_HOME set so it knows where to find java. \n",
    "os.environ[\"JAVA_HOME\"] = \"/usr/lib/jvm/java-11-openjdk/\"\n",
    "## since we are using the filesysten, we need to tell the client where to spool and where the agent needs to look.\n",
    "os.environ[\"MLOPS_SPOOLER_TYPE\"]=\"FILESYSTEM\"\n",
    "## we also need to specify the location of the spooler.\n",
    "os.environ[\"MLOPS_FILESYSTEM_DIRECTORY\"] = \"/tmp/ta\"\n",
    " \n",
    "mlops = MLOps().init()\n",
    "start = time.time() \n",
    "payload = generate_data(10000)\n",
    "features_df = payload.drop\n",
    "end = time.time() \n",
    "for deployment in deployment_conf:\n",
    "    prediction_data = payload[deployment[\"tag\"]].tolist()\n",
    "    deployment_id = deployment[\"deployment_id\"]\n",
    "    model_id = deployment[\"model_id\"]\n",
    "    mlops.report_deployment_stats(len(prediction_data), (end - start)*1000, deployment_id = deployment_id, model_id = model_id) \n",
    "    mlops.report_predictions_data(predictions = prediction_data, deployment_id = deployment_id, model_id = model_id)\n",
    "mlops.shutdown()"
   ]
  },
  {
   "cell_type": "code",
   "execution_count": 38,
   "id": "71cc72c3-e3b5-415c-8193-591474a71e37",
   "metadata": {
    "collapsed": false,
    "datarobot": {
     "chart_settings": null,
     "custom_llm_metric_settings": null,
     "custom_metric_settings": null,
     "dataframe_view_options": null,
     "disable_run": false,
     "execution_time_millis": 2047,
     "hide_code": false,
     "hide_results": false,
     "language": "python"
    },
    "jupyter": {
     "outputs_hidden": false,
     "source_hidden": false
    },
    "scrolled": false
   },
   "outputs": [
    {
     "name": "stdout",
     "output_type": "stream",
     "text": [
      "INFO: MLOPS_AGENT_CONFIG_YAML=/home/notebooks/storage/datarobot_mlops_package-11.0.1/conf/mlops.agent.conf.yaml\n",
      "INFO: MLOPS_AGENT_LOG_PROPERTIES=/home/notebooks/storage/datarobot_mlops_package-11.0.1/conf/mlops.log4j2.properties\n",
      "INFO: MLOPS_AGENT_JVM_OPT=-Xmx1G\n",
      "INFO: AGENT_CLASSPATH='/home/notebooks/storage/datarobot_mlops_package-11.0.1/lib/spooler-kafka-11.0.1.jar:/home/notebooks/storage/datarobot_mlops_package-11.0.1/lib/spooler-pubsub-11.0.1.jar:/home/notebooks/storage/datarobot_mlops_package-11.0.1/lib/spooler-rabbitmq-11.0.1.jar:/home/notebooks/storage/datarobot_mlops_package-11.0.1/lib/spooler-sqs-11.0.1.jar:/home/notebooks/storage/datarobot_mlops_package-11.0.1/lib/mlops-agent-11.0.1.jar'\n",
      "INFO: AGENT_LOG_PATH=/home/notebooks/storage/datarobot_mlops_package-11.0.1/logs/mlops.agent.log\n",
      "\n",
      "Running MLOps-Agent as a service\n",
      "\n",
      "\n",
      "DataRobot MLOps-Agent is running.\n"
     ]
    },
    {
     "data": {
      "text/plain": [
       "0"
      ]
     },
     "execution_count": 38,
     "metadata": {},
     "output_type": "execute_result"
    }
   ],
   "source": [
    "## start the agent!  this will use the environments variables set up above\n",
    "agents_dir = glob.glob(\"./datarobot_mlops*\").pop(0)\n",
    "try: \n",
    "    os.remove(os.path.join(agents_dir, \"bin\", \"PID.agent\"))\n",
    "except Exception as e:\n",
    "    print(e)\n",
    "\n",
    "subprocess.call(\"{}/bin/start-agent.sh\".format(agents_dir))"
   ]
  },
  {
   "attachments": {},
   "cell_type": "markdown",
   "id": "40378d53-1e32-4161-9eba-a5f786bd0975",
   "metadata": {
    "collapsed": false,
    "datarobot": {
     "chart_settings": null,
     "custom_llm_metric_settings": null,
     "custom_metric_settings": null,
     "dataframe_view_options": null,
     "disable_run": false,
     "execution_time_millis": null,
     "hide_code": false,
     "hide_results": false,
     "language": "markdown"
    },
    "jupyter": {
     "outputs_hidden": false,
     "source_hidden": false
    },
    "scrolled": false
   },
   "source": [
    "## Give it some time to report back predictions\n",
    "\n",
    "in a scheduled run, we need to block to make sure all predictions are reported back, otherwise the job will terminate before the spooler flushes all records to datarobot"
   ]
  },
  {
   "cell_type": "code",
   "execution_count": 39,
   "id": "3133cf5b-dbb0-4610-b3ce-02702588f23b",
   "metadata": {
    "collapsed": false,
    "datarobot": {
     "chart_settings": null,
     "custom_llm_metric_settings": null,
     "custom_metric_settings": null,
     "dataframe_view_options": null,
     "disable_run": false,
     "execution_time_millis": 183,
     "hide_code": false,
     "hide_results": false,
     "language": "python"
    },
    "jupyter": {
     "outputs_hidden": false,
     "source_hidden": false
    },
    "scrolled": false
   },
   "outputs": [
    {
     "name": "stdout",
     "output_type": "stream",
     "text": [
      "all predictions reported\n",
      "0\n",
      "10000\n"
     ]
    }
   ],
   "source": [
    "predictions_reported = service_stats.metrics.get(\"totalPredictions\") - prediction_count \n",
    "# predictions_reported != payload.shape[0]\n",
    "while predictions_reported != payload.shape[0]:\n",
    "    service_stats = dep.get_service_stats()\n",
    "    predictions_reported = service_stats.metrics.get(\"totalPredictions\") - prediction_count \n",
    "print(\"all predictions reported\")\n",
    "print(prediction_count)\n",
    "print(service_stats.metrics.get(\"totalPredictions\"))\n"
   ]
  },
  {
   "cell_type": "code",
   "execution_count": 0,
   "id": "9ce9ab7b-f4f1-4e34-9fe5-72d1f0851e72",
   "metadata": {
    "collapsed": false,
    "datarobot": {
     "chart_settings": null,
     "custom_llm_metric_settings": null,
     "custom_metric_settings": null,
     "dataframe_view_options": null,
     "disable_run": false,
     "execution_time_millis": null,
     "hide_code": false,
     "hide_results": false,
     "language": "python"
    },
    "jupyter": {
     "outputs_hidden": false,
     "source_hidden": false
    },
    "scrolled": false
   },
   "outputs": [],
   "source": []
  }
 ],
 "metadata": {
  "kernelspec": {
   "display_name": "Python 3 (ipykernel)",
   "name": "python3"
  },
  "language_info": {
   "name": "python"
  }
 },
 "nbformat": 4,
 "nbformat_minor": 5
}
