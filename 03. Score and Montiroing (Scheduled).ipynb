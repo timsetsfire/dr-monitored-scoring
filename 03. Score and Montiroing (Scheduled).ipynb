{
 "cells": [
  {
   "attachments": {},
   "cell_type": "markdown",
   "id": "e747d564-187a-4676-ae62-652e0d6f7b89",
   "metadata": {
    "collapsed": false,
    "datarobot": {
     "chart_settings": null,
     "custom_llm_metric_settings": null,
     "custom_metric_settings": null,
     "dataframe_view_options": null,
     "disable_run": false,
     "execution_time_millis": null,
     "hide_code": false,
     "hide_results": false,
     "language": "markdown"
    },
    "jupyter": {
     "outputs_hidden": false,
     "source_hidden": false
    },
    "scrolled": false
   },
   "source": [
    "## Generate some test data\n",
    "\n",
    "This is an example of scoring data and monitoring with datarobot"
   ]
  },
  {
   "cell_type": "code",
   "execution_count": 103,
   "id": "190dd3b2-45fe-4547-9420-4c6f00116255",
   "metadata": {
    "collapsed": false,
    "datarobot": {
     "chart_settings": null,
     "custom_llm_metric_settings": null,
     "custom_metric_settings": null,
     "dataframe_view_options": null,
     "disable_run": false,
     "execution_time_millis": 9,
     "hide_code": false,
     "hide_results": false,
     "language": "python"
    },
    "jupyter": {
     "outputs_hidden": false,
     "source_hidden": false
    },
    "scrolled": false
   },
   "outputs": [],
   "source": [
    "import json\n",
    "import pandas as pd \n",
    "import yaml\n",
    "import datarobot as dr\n",
    "from datarobot_mlops.mlops import MLOps\n",
    "import time\n",
    "\n",
    "example1 = { \n",
    "    \"claimNumber\": 12341234,\n",
    "    \"exposureType\": \"exposure type a\",\n",
    "    \"modelConfidence\": \"low\",  ## high, low, medium\n",
    "    \"claimantInfo\": \" [\\{\\}] \"\n",
    " }\n",
    "\n",
    "import numpy as np \n",
    "def generate_data(n = 100):\n",
    "    arr = [\"low\", \"medium\", \"high\"]\n",
    "    modelConfidence = np.random.choice([\"low\", \"medium\", \"high\"], size=n, p = [0.6, 0.3, 0.1], replace=True)\n",
    "    exposureType = np.random.choice([\"exposure type a\", \"exposure type b\", \"exposure type c\"], size=n, p = [1/3 ,1/3, 1/3], replace=True)\n",
    "    claimNumber = np.random.randint(11111, 99999, size = n)\n",
    "    \n",
    "    payload = pd.DataFrame( dict( claimNumber = claimNumber, exposureType = exposureType, modelConfidence = modelConfidence))\n",
    "    payload[\"claimantInfo\"] = json.dumps( dict( field1 = \"field1\", field2 = \"field2\"))\n",
    "    return payload\n",
    "\n",
    "def ohe_prediction(x):\n",
    "    if x == \"low\":\n",
    "        return [1.0, 0.0, 0.0]\n",
    "    elif x == \"medium\":\n",
    "        return [0.0, 1.0, 0.0]\n",
    "    elif x == \"high\":\n",
    "        return [0.0, 0.0, 1.0]\n",
    "    else:\n",
    "        return [1/3, 1/3, 1/3]\n",
    "\n",
    "\n",
    "\n",
    "\n"
   ]
  },
  {
   "attachments": {},
   "cell_type": "markdown",
   "id": "9450bc90-78ec-45f0-bbb4-16e20470e43c",
   "metadata": {
    "collapsed": false,
    "datarobot": {
     "chart_settings": null,
     "custom_llm_metric_settings": null,
     "custom_metric_settings": null,
     "dataframe_view_options": null,
     "disable_run": false,
     "execution_time_millis": null,
     "hide_code": false,
     "hide_results": false,
     "language": "markdown"
    },
    "jupyter": {
     "outputs_hidden": false,
     "source_hidden": false
    },
    "scrolled": false
   },
   "source": [
    "## Recommended Approach \n",
    "\n",
    "1.  Register Payload to DataRobot Dataset Register\n",
    "2.  Create and trigger a monitoring job - DataRobot will use the uploaded dataset to monitoring inputs and predictions"
   ]
  },
  {
   "cell_type": "code",
   "execution_count": 124,
   "id": "4fe4984e-0223-4aac-a67a-8fcbfbf39478",
   "metadata": {
    "collapsed": false,
    "datarobot": {
     "chart_settings": null,
     "custom_llm_metric_settings": null,
     "custom_metric_settings": null,
     "dataframe_view_options": null,
     "disable_run": false,
     "execution_time_millis": 1675,
     "hide_code": false,
     "hide_results": false,
     "language": "python"
    },
    "jupyter": {
     "outputs_hidden": false,
     "source_hidden": false
    },
    "scrolled": false
   },
   "outputs": [],
   "source": [
    "with open(\"deployment.yaml\", \"r\") as f:\n",
    "    deployment_conf = yaml.load(f, Loader = yaml.SafeLoader)\n",
    "deployment = dr.Deployment.get( deployment_conf.get(\"deployment_id\"))"
   ]
  },
  {
   "cell_type": "code",
   "execution_count": 116,
   "id": "b286695c-8bef-4260-a7cb-ebdfdc7d42cf",
   "metadata": {
    "collapsed": false,
    "datarobot": {
     "chart_settings": null,
     "custom_llm_metric_settings": null,
     "custom_metric_settings": null,
     "dataframe_view_options": null,
     "disable_run": false,
     "execution_time_millis": 5,
     "hide_code": false,
     "hide_results": false,
     "language": "python"
    },
    "jupyter": {
     "outputs_hidden": false,
     "source_hidden": false
    },
    "scrolled": false
   },
   "outputs": [
    {
     "data": {
      "text/plain": [
       "'67e595f68e68d7369dc6fa2e'"
      ]
     },
     "execution_count": 116,
     "metadata": {},
     "output_type": "execute_result"
    }
   ],
   "source": [
    "import datarobot as dr \n",
    "import datetime\n",
    "\n",
    "client = dr.Client() \n",
    "payload = generate_data(n = 100)\n",
    "preds = payload[\"modelConfidence\"].apply(ohe_prediction).values\n",
    "preds_df = pd.DataFrame(list(preds), columns = [\"PREDICITION_LOW\", \"PREDICTION_MEDIUM\", \"PREDICTION_HIGH\"])\n",
    "ts = datetime.datetime.now().isoformat()\n",
    "payload.join(preds_df)\n",
    "dataset =  dr.Dataset.create_from_in_memory_data(payload.join(preds_df), fname = f\"SUBRO monitoring dataset {ts}.csv\")\n",
    "\n",
    "monitoring_job_payload = {\n",
    "    \"deploymentId\":deployment.id,\n",
    "    \"intakeSettings\":{\"type\":\"dataset\",\"datasetId\":dataset.id},\n",
    "    \"name\":f\"Subro model Job {ts}1 (UTC)\",\n",
    "    \"enabled\":False,\n",
    "    \"monitoringColumns\": {\n",
    "        \"predictionsColumns\":[\n",
    "            {\"className\":\"high\",\"columnName\":\"PREDICTION_HIGH\"},\n",
    "            {\"className\":\"medium\",\"columnName\":\"PREDICTION_MEDIUM\"},\n",
    "            {\"className\":\"low\",\"columnName\":\"PREDICITION_LOW\"}\n",
    "        ]}}\n",
    "\n",
    "monitoring_job_response = client.post(\"batchMonitoringJobDefinitions/\", data = monitoring_job_payload)\n",
    "monitoring_job_response.raise_for_status()\n",
    "\n",
    "job_run_payload = {\"jobDefinitionId\":monitoring_job_response.json()[\"id\"]}\n",
    "job_run_response = client.post(\"batchJobs/fromJobDefinition/\", data = job_run_payload)\n",
    "job_run_response.raise_for_status()"
   ]
  },
  {
   "attachments": {},
   "cell_type": "markdown",
   "id": "dab72ec5-fb06-4bc1-85b1-024d756cbc4c",
   "metadata": {
    "collapsed": false,
    "datarobot": {
     "chart_settings": null,
     "custom_llm_metric_settings": null,
     "custom_metric_settings": null,
     "dataframe_view_options": null,
     "disable_run": false,
     "execution_time_millis": null,
     "hide_code": false,
     "hide_results": false,
     "language": "markdown"
    },
    "jupyter": {
     "outputs_hidden": false,
     "source_hidden": false
    },
    "scrolled": false
   },
   "source": [
    "## Approach 2: Use the Filesystem as Spooler\n",
    "\n"
   ]
  },
  {
   "cell_type": "code",
   "execution_count": 0,
   "id": "8fe765c4-586f-4f9e-aac9-304a42c2d3f9",
   "metadata": {
    "collapsed": false,
    "datarobot": {
     "chart_settings": null,
     "custom_llm_metric_settings": null,
     "custom_metric_settings": null,
     "dataframe_view_options": null,
     "disable_run": false,
     "execution_time_millis": null,
     "hide_code": false,
     "hide_results": false,
     "language": "python"
    },
    "jupyter": {
     "outputs_hidden": false,
     "source_hidden": false
    },
    "scrolled": false
   },
   "outputs": [],
   "source": [
    "service_stats = deployment.get_service_stats()\n",
    "prediction_count = service_stats.metrics.get(\"totalPredictions\")\n",
    "print(prediction_count)"
   ]
  },
  {
   "cell_type": "code",
   "execution_count": 5,
   "id": "dd97a6f1-2585-4e85-aced-4fbbfd15fe12",
   "metadata": {
    "collapsed": false,
    "datarobot": {
     "chart_settings": null,
     "custom_llm_metric_settings": null,
     "custom_metric_settings": null,
     "dataframe_view_options": null,
     "disable_run": false,
     "execution_time_millis": 5053,
     "hide_code": false,
     "hide_results": false,
     "language": "python"
    },
    "jupyter": {
     "outputs_hidden": false,
     "source_hidden": false
    },
    "scrolled": false
   },
   "outputs": [],
   "source": [
    "from pathlib import Path\n",
    "from datarobot_mlops.mlops import MLOps\n",
    "import os \n",
    "import glob \n",
    "import subprocess   \n",
    "import time \n",
    "import json\n",
    "\n",
    "feature_types = [{ \"name\": \"claimNumber\", \"feature_type\": \"number\"}, {\"name\":\"exposureType\", \"feature_type\":\"categorical\"}, {\"name\": \"modelConfidence\", \"feature_type\": \"categorical\"}, {\"name\": \"claimantInfo\", \"feature_type\": \"text\"}]\n",
    "## thia is the spooler director that we are creating on the fly\n",
    "spooler_dir = Path(\"/tmp/ta\")\n",
    "spooler_dir.mkdir(exist_ok = True)\n",
    "## the environment variables are a must for the client created on line 20 of this cell\n",
    "## and for the agent that gets started in a few cells\n",
    "os.environ[\"MLOPS_SERVICE_URL\"] = \"https://app.datarobot.com\"\n",
    "os.environ['MLOPS_API_TOKEN'] = os.environ[\"DATAROBOT_API_TOKEN\"]\n",
    "os.environ['MLOPS_AGENT_VERIFY_SSL'] = \"true\"\n",
    "os.environ[\"JAVA_HOME\"] = \"/usr/lib/jvm/java-11-openjdk/\"\n",
    "os.environ[\"MLOPS_SPOOLER_TYPE\"]=\"FILESYSTEM\"\n",
    "os.environ[\"MLOPS_FILESYSTEM_DIRECTORY\"] = \"/tmp/ta\"\n",
    "os.environ[\"MLOPS_FEATURE_TYPES_JSON\"] = json.dumps(feature_types)\n",
    "os.environ[\"MLOPS_DEPLOYMENT_ID\"] = deployment.id\n",
    "os.environ[\"MLOPS_MODEL_ID\"] = deployment.model.get(\"id\")\n",
    "\n",
    "mlops = MLOps().init()\n",
    "start = time.time() \n",
    "payload = generate_data(10000)\n",
    "predictions = payload[\"modelConfidence\"].apply(ohe_prediction).tolist()\n",
    "time.sleep(5)\n",
    "end = time.time()\n",
    "## score date \n",
    "mlops.report_deployment_stats(payload.shape[0], (end - start)*1000) \n",
    "mlops.report_predictions_data(predictions = predictions, class_names = [\"low\", \"medium\", \"high\"])\n",
    "mlops.shutdown()\n",
    "\n",
    "\n"
   ]
  },
  {
   "cell_type": "code",
   "execution_count": 6,
   "id": "71cc72c3-e3b5-415c-8193-591474a71e37",
   "metadata": {
    "collapsed": false,
    "datarobot": {
     "chart_settings": null,
     "custom_llm_metric_settings": null,
     "custom_metric_settings": null,
     "dataframe_view_options": null,
     "disable_run": false,
     "execution_time_millis": 2045,
     "hide_code": false,
     "hide_results": false,
     "language": "python"
    },
    "jupyter": {
     "outputs_hidden": false,
     "source_hidden": false
    },
    "scrolled": false
   },
   "outputs": [
    {
     "name": "stdout",
     "output_type": "stream",
     "text": [
      "INFO: MLOPS_AGENT_CONFIG_YAML=/home/notebooks/storage/datarobot_mlops_package-11.0.1/conf/mlops.agent.conf.yaml\n",
      "INFO: MLOPS_AGENT_LOG_PROPERTIES=/home/notebooks/storage/datarobot_mlops_package-11.0.1/conf/mlops.log4j2.properties\n",
      "INFO: MLOPS_AGENT_JVM_OPT=-Xmx1G\n",
      "INFO: AGENT_CLASSPATH='/home/notebooks/storage/datarobot_mlops_package-11.0.1/lib/spooler-kafka-11.0.1.jar:/home/notebooks/storage/datarobot_mlops_package-11.0.1/lib/spooler-pubsub-11.0.1.jar:/home/notebooks/storage/datarobot_mlops_package-11.0.1/lib/spooler-rabbitmq-11.0.1.jar:/home/notebooks/storage/datarobot_mlops_package-11.0.1/lib/spooler-sqs-11.0.1.jar:/home/notebooks/storage/datarobot_mlops_package-11.0.1/lib/mlops-agent-11.0.1.jar'\n",
      "INFO: AGENT_LOG_PATH=/home/notebooks/storage/datarobot_mlops_package-11.0.1/logs/mlops.agent.log\n",
      "\n",
      "Running MLOps-Agent as a service\n",
      "\n",
      "\n",
      "DataRobot MLOps-Agent is running.\n"
     ]
    },
    {
     "data": {
      "text/plain": [
       "0"
      ]
     },
     "execution_count": 6,
     "metadata": {},
     "output_type": "execute_result"
    }
   ],
   "source": [
    "## start the agent!  this will use the environments variables set up above\n",
    "agents_dir = glob.glob(\"./datarobot_mlops*\").pop(0)\n",
    "try: \n",
    "    os.remove(os.path.join(agents_dir, \"bin\", \"PID.agent\"))\n",
    "except Exception as e:\n",
    "    print(e)\n",
    "\n",
    "subprocess.call(\"{}/bin/start-agent.sh\".format(agents_dir))"
   ]
  },
  {
   "attachments": {},
   "cell_type": "markdown",
   "id": "40378d53-1e32-4161-9eba-a5f786bd0975",
   "metadata": {
    "collapsed": false,
    "datarobot": {
     "chart_settings": null,
     "custom_llm_metric_settings": null,
     "custom_metric_settings": null,
     "dataframe_view_options": null,
     "disable_run": false,
     "execution_time_millis": null,
     "hide_code": false,
     "hide_results": false,
     "language": "markdown"
    },
    "jupyter": {
     "outputs_hidden": false,
     "source_hidden": false
    },
    "scrolled": false
   },
   "source": [
    "## Give it some time to report back predictions\n",
    "\n",
    "in a scheduled run, we need to block to make sure all predictions are reported back, otherwise the job will terminate before the spooler flushes all records to datarobot"
   ]
  },
  {
   "cell_type": "code",
   "execution_count": 8,
   "id": "3133cf5b-dbb0-4610-b3ce-02702588f23b",
   "metadata": {
    "collapsed": false,
    "datarobot": {
     "chart_settings": null,
     "custom_llm_metric_settings": null,
     "custom_metric_settings": null,
     "dataframe_view_options": null,
     "disable_run": false,
     "execution_time_millis": 7486,
     "hide_code": false,
     "hide_results": false,
     "language": "python"
    },
    "jupyter": {
     "outputs_hidden": false,
     "source_hidden": false
    },
    "scrolled": false
   },
   "outputs": [
    {
     "name": "stdout",
     "output_type": "stream",
     "text": [
      "all predictions reported\n",
      "140200\n",
      "150200\n"
     ]
    }
   ],
   "source": [
    "predictions_reported = service_stats.metrics.get(\"totalPredictions\") - prediction_count \n",
    "# predictions_reported != payload.shape[0]\n",
    "while predictions_reported != payload.shape[0]:\n",
    "    service_stats = deployment.get_service_stats()\n",
    "    predictions_reported = service_stats.metrics.get(\"totalPredictions\") - prediction_count \n",
    "print(\"all predictions reported\")\n",
    "print(prediction_count)\n",
    "print(service_stats.metrics.get(\"totalPredictions\"))\n"
   ]
  }
 ],
 "metadata": {
  "kernelspec": {
   "display_name": "Python 3 (ipykernel)",
   "name": "python3"
  },
  "language_info": {
   "name": "python"
  }
 },
 "nbformat": 4,
 "nbformat_minor": 5
}
